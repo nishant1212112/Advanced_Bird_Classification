{
 "cells": [
  {
   "cell_type": "code",
   "execution_count": 1,
   "metadata": {},
   "outputs": [],
   "source": [
    "import os,cv2\n",
    "import numpy as np\n",
    "import pandas as pd"
   ]
  },
  {
   "cell_type": "code",
   "execution_count": 2,
   "metadata": {},
   "outputs": [],
   "source": [
    "rootdir='Data2'\n",
    "CLASSES=[x for x in os.listdir(rootdir) if x!='.DS_Store']\n",
    "CLASSES.sort()\n",
    "ImagePaths=[]\n",
    "out_classes=[]\n",
    "for i,class1 in enumerate(CLASSES):\n",
    "    Folder=os.path.join(rootdir,class1)\n",
    "    ImagePaths= ImagePaths+[os.path.join(Folder,x) for x in os.listdir(Folder) if x!='.DS_Store']\n",
    "    out_classes=out_classes+[class1 for x in os.listdir(Folder) if x!='.DS_Store']"
   ]
  },
  {
   "cell_type": "code",
   "execution_count": 3,
   "metadata": {},
   "outputs": [
    {
     "data": {
      "text/plain": [
       "35"
      ]
     },
     "execution_count": 3,
     "metadata": {},
     "output_type": "execute_result"
    }
   ],
   "source": [
    "len(CLASSES)"
   ]
  },
  {
   "cell_type": "code",
   "execution_count": 4,
   "metadata": {},
   "outputs": [
    {
     "name": "stdout",
     "output_type": "stream",
     "text": [
      "(35, 15658)\n",
      "(15635, 300, 300, 3)\n"
     ]
    }
   ],
   "source": [
    "print(len(CLASSES),len(ImagePaths))\n",
    "Images = [cv2.imread(image) for image in ImagePaths ]\n",
    "out_classes=[x for x,y in zip(out_classes,Images) if y is not None]\n",
    "ImagePaths=[x for x,y in zip(ImagePaths,Images) if y is not None]\n",
    "Images=[image for image in Images if image is not None]\n",
    "Sizes=[image.shape for image in Images ]\n",
    "Num_Images=len(ImagePaths)\n",
    "images=[cv2.resize(image,(300,300)) for image in Images]\n",
    "images=np.stack(images,axis=0)\n",
    "print(images.shape)"
   ]
  },
  {
   "cell_type": "code",
   "execution_count": 5,
   "metadata": {},
   "outputs": [
    {
     "data": {
      "text/plain": [
       "15635"
      ]
     },
     "execution_count": 5,
     "metadata": {},
     "output_type": "execute_result"
    }
   ],
   "source": [
    "len(out_classes)"
   ]
  },
  {
   "cell_type": "code",
   "execution_count": 6,
   "metadata": {},
   "outputs": [],
   "source": [
    "import pandas as pd\n",
    "BirdClasses=pd.DataFrame(\n",
    "    {'Bird Class': np.unique(out_classes,return_counts=True)[0],\n",
    "     'Counts': np.unique(out_classes,return_counts=True)[1]\n",
    "    })"
   ]
  },
  {
   "cell_type": "code",
   "execution_count": 7,
   "metadata": {},
   "outputs": [
    {
     "data": {
      "text/html": [
       "<div>\n",
       "<style scoped>\n",
       "    .dataframe tbody tr th:only-of-type {\n",
       "        vertical-align: middle;\n",
       "    }\n",
       "\n",
       "    .dataframe tbody tr th {\n",
       "        vertical-align: top;\n",
       "    }\n",
       "\n",
       "    .dataframe thead th {\n",
       "        text-align: right;\n",
       "    }\n",
       "</style>\n",
       "<table border=\"1\" class=\"dataframe\">\n",
       "  <thead>\n",
       "    <tr style=\"text-align: right;\">\n",
       "      <th></th>\n",
       "      <th>Bird Class</th>\n",
       "      <th>Counts</th>\n",
       "    </tr>\n",
       "  </thead>\n",
       "  <tbody>\n",
       "    <tr>\n",
       "      <th>5</th>\n",
       "      <td>Coppersmith</td>\n",
       "      <td>729</td>\n",
       "    </tr>\n",
       "    <tr>\n",
       "      <th>11</th>\n",
       "      <td>House_Crow</td>\n",
       "      <td>675</td>\n",
       "    </tr>\n",
       "    <tr>\n",
       "      <th>23</th>\n",
       "      <td>Peacock</td>\n",
       "      <td>639</td>\n",
       "    </tr>\n",
       "    <tr>\n",
       "      <th>3</th>\n",
       "      <td>Common_myna</td>\n",
       "      <td>631</td>\n",
       "    </tr>\n",
       "    <tr>\n",
       "      <th>16</th>\n",
       "      <td>Koel</td>\n",
       "      <td>595</td>\n",
       "    </tr>\n",
       "    <tr>\n",
       "      <th>1</th>\n",
       "      <td>Bulbul</td>\n",
       "      <td>593</td>\n",
       "    </tr>\n",
       "    <tr>\n",
       "      <th>25</th>\n",
       "      <td>Pied_wagtail</td>\n",
       "      <td>580</td>\n",
       "    </tr>\n",
       "    <tr>\n",
       "      <th>30</th>\n",
       "      <td>Shikra</td>\n",
       "      <td>573</td>\n",
       "    </tr>\n",
       "    <tr>\n",
       "      <th>20</th>\n",
       "      <td>Parakeet</td>\n",
       "      <td>563</td>\n",
       "    </tr>\n",
       "    <tr>\n",
       "      <th>15</th>\n",
       "      <td>Jungle_babbler</td>\n",
       "      <td>553</td>\n",
       "    </tr>\n",
       "    <tr>\n",
       "      <th>29</th>\n",
       "      <td>Rufous_backed_shrike</td>\n",
       "      <td>541</td>\n",
       "    </tr>\n",
       "    <tr>\n",
       "      <th>31</th>\n",
       "      <td>Sunbird</td>\n",
       "      <td>517</td>\n",
       "    </tr>\n",
       "    <tr>\n",
       "      <th>8</th>\n",
       "      <td>Golden_backed_woodpecker</td>\n",
       "      <td>512</td>\n",
       "    </tr>\n",
       "    <tr>\n",
       "      <th>26</th>\n",
       "      <td>Pigeon</td>\n",
       "      <td>505</td>\n",
       "    </tr>\n",
       "    <tr>\n",
       "      <th>34</th>\n",
       "      <td>White_breasted_water_hen</td>\n",
       "      <td>488</td>\n",
       "    </tr>\n",
       "    <tr>\n",
       "      <th>4</th>\n",
       "      <td>Common_sparrow</td>\n",
       "      <td>442</td>\n",
       "    </tr>\n",
       "    <tr>\n",
       "      <th>2</th>\n",
       "      <td>Collared_dove</td>\n",
       "      <td>439</td>\n",
       "    </tr>\n",
       "    <tr>\n",
       "      <th>32</th>\n",
       "      <td>Tailor_bird</td>\n",
       "      <td>430</td>\n",
       "    </tr>\n",
       "    <tr>\n",
       "      <th>28</th>\n",
       "      <td>Red_wattled_lapwing</td>\n",
       "      <td>421</td>\n",
       "    </tr>\n",
       "    <tr>\n",
       "      <th>22</th>\n",
       "      <td>Partridge</td>\n",
       "      <td>413</td>\n",
       "    </tr>\n",
       "    <tr>\n",
       "      <th>12</th>\n",
       "      <td>Indian_hornbill</td>\n",
       "      <td>392</td>\n",
       "    </tr>\n",
       "    <tr>\n",
       "      <th>17</th>\n",
       "      <td>Little_green_beeeater</td>\n",
       "      <td>378</td>\n",
       "    </tr>\n",
       "    <tr>\n",
       "      <th>7</th>\n",
       "      <td>Drongo</td>\n",
       "      <td>372</td>\n",
       "    </tr>\n",
       "    <tr>\n",
       "      <th>33</th>\n",
       "      <td>White_breasted_kingfisher</td>\n",
       "      <td>358</td>\n",
       "    </tr>\n",
       "    <tr>\n",
       "      <th>21</th>\n",
       "      <td>Pariah_kite</td>\n",
       "      <td>342</td>\n",
       "    </tr>\n",
       "    <tr>\n",
       "      <th>18</th>\n",
       "      <td>Magpie_robin</td>\n",
       "      <td>342</td>\n",
       "    </tr>\n",
       "    <tr>\n",
       "      <th>19</th>\n",
       "      <td>Owlet</td>\n",
       "      <td>333</td>\n",
       "    </tr>\n",
       "    <tr>\n",
       "      <th>10</th>\n",
       "      <td>Hoopoe</td>\n",
       "      <td>315</td>\n",
       "    </tr>\n",
       "    <tr>\n",
       "      <th>9</th>\n",
       "      <td>Green Barbet</td>\n",
       "      <td>314</td>\n",
       "    </tr>\n",
       "    <tr>\n",
       "      <th>27</th>\n",
       "      <td>Pond_heron</td>\n",
       "      <td>311</td>\n",
       "    </tr>\n",
       "    <tr>\n",
       "      <th>6</th>\n",
       "      <td>Crow_pheasant</td>\n",
       "      <td>310</td>\n",
       "    </tr>\n",
       "    <tr>\n",
       "      <th>14</th>\n",
       "      <td>Jungle_Crow</td>\n",
       "      <td>306</td>\n",
       "    </tr>\n",
       "    <tr>\n",
       "      <th>13</th>\n",
       "      <td>Indian_robin</td>\n",
       "      <td>300</td>\n",
       "    </tr>\n",
       "    <tr>\n",
       "      <th>0</th>\n",
       "      <td>Brahminy_maina</td>\n",
       "      <td>234</td>\n",
       "    </tr>\n",
       "    <tr>\n",
       "      <th>24</th>\n",
       "      <td>Pied_myna</td>\n",
       "      <td>189</td>\n",
       "    </tr>\n",
       "  </tbody>\n",
       "</table>\n",
       "</div>"
      ],
      "text/plain": [
       "                   Bird Class  Counts\n",
       "5                 Coppersmith     729\n",
       "11                 House_Crow     675\n",
       "23                    Peacock     639\n",
       "3                 Common_myna     631\n",
       "16                       Koel     595\n",
       "1                      Bulbul     593\n",
       "25               Pied_wagtail     580\n",
       "30                     Shikra     573\n",
       "20                   Parakeet     563\n",
       "15             Jungle_babbler     553\n",
       "29       Rufous_backed_shrike     541\n",
       "31                    Sunbird     517\n",
       "8    Golden_backed_woodpecker     512\n",
       "26                     Pigeon     505\n",
       "34   White_breasted_water_hen     488\n",
       "4              Common_sparrow     442\n",
       "2               Collared_dove     439\n",
       "32                Tailor_bird     430\n",
       "28        Red_wattled_lapwing     421\n",
       "22                  Partridge     413\n",
       "12            Indian_hornbill     392\n",
       "17      Little_green_beeeater     378\n",
       "7                      Drongo     372\n",
       "33  White_breasted_kingfisher     358\n",
       "21                Pariah_kite     342\n",
       "18               Magpie_robin     342\n",
       "19                      Owlet     333\n",
       "10                     Hoopoe     315\n",
       "9                Green Barbet     314\n",
       "27                 Pond_heron     311\n",
       "6               Crow_pheasant     310\n",
       "14                Jungle_Crow     306\n",
       "13               Indian_robin     300\n",
       "0              Brahminy_maina     234\n",
       "24                  Pied_myna     189"
      ]
     },
     "execution_count": 7,
     "metadata": {},
     "output_type": "execute_result"
    }
   ],
   "source": [
    "BirdClasses.sort_values(by=['Counts'], ascending=False)"
   ]
  },
  {
   "cell_type": "code",
   "execution_count": 24,
   "metadata": {},
   "outputs": [
    {
     "data": {
      "text/plain": [
       "array(['Brahminy_maina', 'Bulbul', 'Collared_dove', 'Common_myna',\n",
       "       'Common_sparrow', 'Coppersmith', 'Crow_pheasant', 'Drongo',\n",
       "       'Golden_backed_woodpecker', 'Green Barbet', 'Hoopoe', 'House_Crow',\n",
       "       'Indian_hornbill', 'Indian_robin', 'Jungle_Crow', 'Jungle_babbler',\n",
       "       'Koel', 'Little_green_beeeater', 'Magpie_robin', 'Owlet',\n",
       "       'Parakeet', 'Pariah_kite', 'Partridge', 'Peacock', 'Pied_myna',\n",
       "       'Pied_wagtail', 'Pigeon', 'Pond_heron', 'Red_wattled_lapwing',\n",
       "       'Rufous_backed_shrike', 'Shikra', 'Sunbird', 'Tailor_bird',\n",
       "       'White_breasted_kingfisher', 'White_breasted_water_hen'],\n",
       "      dtype=object)"
      ]
     },
     "execution_count": 24,
     "metadata": {},
     "output_type": "execute_result"
    }
   ],
   "source": [
    "BirdClasses['Bird Class'].values"
   ]
  },
  {
   "cell_type": "code",
   "execution_count": 9,
   "metadata": {},
   "outputs": [],
   "source": [
    "BirdClasses.to_csv('DataStats2.csv',index=False)"
   ]
  },
  {
   "cell_type": "code",
   "execution_count": 10,
   "metadata": {},
   "outputs": [
    {
     "data": {
      "text/plain": [
       "15635"
      ]
     },
     "execution_count": 10,
     "metadata": {},
     "output_type": "execute_result"
    }
   ],
   "source": [
    "len(out_classes)"
   ]
  },
  {
   "cell_type": "code",
   "execution_count": 11,
   "metadata": {},
   "outputs": [
    {
     "data": {
      "text/plain": [
       "(15635, 300, 300, 3)"
      ]
     },
     "execution_count": 11,
     "metadata": {},
     "output_type": "execute_result"
    }
   ],
   "source": [
    "images.shape"
   ]
  },
  {
   "cell_type": "code",
   "execution_count": 12,
   "metadata": {},
   "outputs": [
    {
     "data": {
      "text/plain": [
       "15635"
      ]
     },
     "execution_count": 12,
     "metadata": {},
     "output_type": "execute_result"
    }
   ],
   "source": [
    "len(ImagePaths)"
   ]
  },
  {
   "cell_type": "code",
   "execution_count": 13,
   "metadata": {},
   "outputs": [
    {
     "data": {
      "text/plain": [
       "15635"
      ]
     },
     "execution_count": 13,
     "metadata": {},
     "output_type": "execute_result"
    }
   ],
   "source": [
    "len(Sizes)"
   ]
  },
  {
   "cell_type": "code",
   "execution_count": 14,
   "metadata": {},
   "outputs": [],
   "source": [
    "AllData=pd.DataFrame(\n",
    "    {'Image Path': ImagePaths,\n",
    "     'Bird Class': out_classes,\n",
    "     'Image Size': Sizes\n",
    "    })"
   ]
  },
  {
   "cell_type": "code",
   "execution_count": 15,
   "metadata": {},
   "outputs": [],
   "source": [
    "AllData.to_csv(\"AllData2.csv\")"
   ]
  },
  {
   "cell_type": "code",
   "execution_count": 12,
   "metadata": {},
   "outputs": [
    {
     "data": {
      "text/plain": [
       "Bird Class                                        Collared_dove\n",
       "Image Path    Data/Collared_dove/Eurasian Collared Dove(41)....\n",
       "Image Size                                        (495, 660, 3)\n",
       "Name: 1031, dtype: object"
      ]
     },
     "execution_count": 12,
     "metadata": {},
     "output_type": "execute_result"
    }
   ],
   "source": [
    "AllData.iloc[1031]"
   ]
  },
  {
   "cell_type": "code",
   "execution_count": 13,
   "metadata": {},
   "outputs": [
    {
     "data": {
      "text/html": [
       "<div>\n",
       "<style scoped>\n",
       "    .dataframe tbody tr th:only-of-type {\n",
       "        vertical-align: middle;\n",
       "    }\n",
       "\n",
       "    .dataframe tbody tr th {\n",
       "        vertical-align: top;\n",
       "    }\n",
       "\n",
       "    .dataframe thead th {\n",
       "        text-align: right;\n",
       "    }\n",
       "</style>\n",
       "<table border=\"1\" class=\"dataframe\">\n",
       "  <thead>\n",
       "    <tr style=\"text-align: right;\">\n",
       "      <th></th>\n",
       "      <th>Bird Class</th>\n",
       "      <th>Counts</th>\n",
       "    </tr>\n",
       "  </thead>\n",
       "  <tbody>\n",
       "    <tr>\n",
       "      <th>0</th>\n",
       "      <td>Bulbul</td>\n",
       "      <td>593</td>\n",
       "    </tr>\n",
       "    <tr>\n",
       "      <th>1</th>\n",
       "      <td>Collared_dove</td>\n",
       "      <td>439</td>\n",
       "    </tr>\n",
       "    <tr>\n",
       "      <th>2</th>\n",
       "      <td>Common_sparrow</td>\n",
       "      <td>442</td>\n",
       "    </tr>\n",
       "    <tr>\n",
       "      <th>3</th>\n",
       "      <td>Coppersmith</td>\n",
       "      <td>729</td>\n",
       "    </tr>\n",
       "    <tr>\n",
       "      <th>4</th>\n",
       "      <td>Crow</td>\n",
       "      <td>535</td>\n",
       "    </tr>\n",
       "    <tr>\n",
       "      <th>5</th>\n",
       "      <td>Crow_pheasant</td>\n",
       "      <td>310</td>\n",
       "    </tr>\n",
       "    <tr>\n",
       "      <th>6</th>\n",
       "      <td>Drongo</td>\n",
       "      <td>372</td>\n",
       "    </tr>\n",
       "    <tr>\n",
       "      <th>7</th>\n",
       "      <td>Golden_backed_woodpecker</td>\n",
       "      <td>512</td>\n",
       "    </tr>\n",
       "    <tr>\n",
       "      <th>8</th>\n",
       "      <td>Green Barbet</td>\n",
       "      <td>314</td>\n",
       "    </tr>\n",
       "    <tr>\n",
       "      <th>9</th>\n",
       "      <td>Hoopoe</td>\n",
       "      <td>315</td>\n",
       "    </tr>\n",
       "    <tr>\n",
       "      <th>10</th>\n",
       "      <td>Indian_hornbill</td>\n",
       "      <td>392</td>\n",
       "    </tr>\n",
       "    <tr>\n",
       "      <th>11</th>\n",
       "      <td>Indian_robin</td>\n",
       "      <td>300</td>\n",
       "    </tr>\n",
       "    <tr>\n",
       "      <th>12</th>\n",
       "      <td>Jungle_babbler</td>\n",
       "      <td>553</td>\n",
       "    </tr>\n",
       "    <tr>\n",
       "      <th>13</th>\n",
       "      <td>Koel</td>\n",
       "      <td>595</td>\n",
       "    </tr>\n",
       "    <tr>\n",
       "      <th>14</th>\n",
       "      <td>Little_green_beeeater</td>\n",
       "      <td>378</td>\n",
       "    </tr>\n",
       "    <tr>\n",
       "      <th>15</th>\n",
       "      <td>Magpie_robin</td>\n",
       "      <td>342</td>\n",
       "    </tr>\n",
       "    <tr>\n",
       "      <th>16</th>\n",
       "      <td>Myna</td>\n",
       "      <td>668</td>\n",
       "    </tr>\n",
       "    <tr>\n",
       "      <th>17</th>\n",
       "      <td>Owlet</td>\n",
       "      <td>333</td>\n",
       "    </tr>\n",
       "    <tr>\n",
       "      <th>18</th>\n",
       "      <td>Parakeet</td>\n",
       "      <td>563</td>\n",
       "    </tr>\n",
       "    <tr>\n",
       "      <th>19</th>\n",
       "      <td>Pariah_kite</td>\n",
       "      <td>342</td>\n",
       "    </tr>\n",
       "    <tr>\n",
       "      <th>20</th>\n",
       "      <td>Partridge</td>\n",
       "      <td>413</td>\n",
       "    </tr>\n",
       "    <tr>\n",
       "      <th>21</th>\n",
       "      <td>Peacock</td>\n",
       "      <td>639</td>\n",
       "    </tr>\n",
       "    <tr>\n",
       "      <th>22</th>\n",
       "      <td>Pied_wagtail</td>\n",
       "      <td>580</td>\n",
       "    </tr>\n",
       "    <tr>\n",
       "      <th>23</th>\n",
       "      <td>Pigeon</td>\n",
       "      <td>505</td>\n",
       "    </tr>\n",
       "    <tr>\n",
       "      <th>24</th>\n",
       "      <td>Pond_heron</td>\n",
       "      <td>311</td>\n",
       "    </tr>\n",
       "    <tr>\n",
       "      <th>25</th>\n",
       "      <td>Red_wattled_lapwing</td>\n",
       "      <td>421</td>\n",
       "    </tr>\n",
       "    <tr>\n",
       "      <th>26</th>\n",
       "      <td>Rufous_backed_shrike</td>\n",
       "      <td>541</td>\n",
       "    </tr>\n",
       "    <tr>\n",
       "      <th>27</th>\n",
       "      <td>Shikra</td>\n",
       "      <td>573</td>\n",
       "    </tr>\n",
       "    <tr>\n",
       "      <th>28</th>\n",
       "      <td>Sunbird</td>\n",
       "      <td>517</td>\n",
       "    </tr>\n",
       "    <tr>\n",
       "      <th>29</th>\n",
       "      <td>Tailor_bird</td>\n",
       "      <td>430</td>\n",
       "    </tr>\n",
       "    <tr>\n",
       "      <th>30</th>\n",
       "      <td>Tree_pie</td>\n",
       "      <td>361</td>\n",
       "    </tr>\n",
       "    <tr>\n",
       "      <th>31</th>\n",
       "      <td>White_breasted_kingfisher</td>\n",
       "      <td>358</td>\n",
       "    </tr>\n",
       "    <tr>\n",
       "      <th>32</th>\n",
       "      <td>White_breasted_water_hen</td>\n",
       "      <td>488</td>\n",
       "    </tr>\n",
       "  </tbody>\n",
       "</table>\n",
       "</div>"
      ],
      "text/plain": [
       "                   Bird Class  Counts\n",
       "0                      Bulbul     593\n",
       "1               Collared_dove     439\n",
       "2              Common_sparrow     442\n",
       "3                 Coppersmith     729\n",
       "4                        Crow     535\n",
       "5               Crow_pheasant     310\n",
       "6                      Drongo     372\n",
       "7    Golden_backed_woodpecker     512\n",
       "8                Green Barbet     314\n",
       "9                      Hoopoe     315\n",
       "10            Indian_hornbill     392\n",
       "11               Indian_robin     300\n",
       "12             Jungle_babbler     553\n",
       "13                       Koel     595\n",
       "14      Little_green_beeeater     378\n",
       "15               Magpie_robin     342\n",
       "16                       Myna     668\n",
       "17                      Owlet     333\n",
       "18                   Parakeet     563\n",
       "19                Pariah_kite     342\n",
       "20                  Partridge     413\n",
       "21                    Peacock     639\n",
       "22               Pied_wagtail     580\n",
       "23                     Pigeon     505\n",
       "24                 Pond_heron     311\n",
       "25        Red_wattled_lapwing     421\n",
       "26       Rufous_backed_shrike     541\n",
       "27                     Shikra     573\n",
       "28                    Sunbird     517\n",
       "29                Tailor_bird     430\n",
       "30                   Tree_pie     361\n",
       "31  White_breasted_kingfisher     358\n",
       "32   White_breasted_water_hen     488"
      ]
     },
     "execution_count": 13,
     "metadata": {},
     "output_type": "execute_result"
    }
   ],
   "source": [
    "BirdClasses"
   ]
  },
  {
   "cell_type": "code",
   "execution_count": 21,
   "metadata": {},
   "outputs": [
    {
     "data": {
      "text/plain": [
       "0         (600, 522, 3)\n",
       "1         (478, 610, 3)\n",
       "2         (464, 660, 3)\n",
       "3         (428, 650, 3)\n",
       "4         (455, 660, 3)\n",
       "5         (441, 660, 3)\n",
       "6         (600, 443, 3)\n",
       "7         (433, 650, 3)\n",
       "8         (440, 660, 3)\n",
       "9         (508, 660, 3)\n",
       "10        (480, 640, 3)\n",
       "11        (600, 494, 3)\n",
       "12        (483, 650, 3)\n",
       "13        (512, 640, 3)\n",
       "14        (554, 660, 3)\n",
       "15        (600, 509, 3)\n",
       "16        (466, 650, 3)\n",
       "17        (425, 660, 3)\n",
       "18        (600, 450, 3)\n",
       "19        (488, 650, 3)\n",
       "20        (440, 650, 3)\n",
       "21        (463, 636, 3)\n",
       "22        (600, 563, 3)\n",
       "23        (416, 651, 3)\n",
       "24        (454, 660, 3)\n",
       "25        (443, 650, 3)\n",
       "26        (491, 660, 3)\n",
       "27        (488, 650, 3)\n",
       "28        (600, 481, 3)\n",
       "29        (524, 660, 3)\n",
       "              ...      \n",
       "15605    (713, 1000, 3)\n",
       "15606     (340, 345, 3)\n",
       "15607     (559, 650, 3)\n",
       "15608     (440, 660, 3)\n",
       "15609     (340, 515, 3)\n",
       "15610     (566, 792, 3)\n",
       "15611     (600, 578, 3)\n",
       "15612     (340, 506, 3)\n",
       "15613     (340, 226, 3)\n",
       "15614     (466, 650, 3)\n",
       "15615    (661, 1000, 3)\n",
       "15616    (667, 1000, 3)\n",
       "15617     (340, 257, 3)\n",
       "15618     (484, 660, 3)\n",
       "15619     (354, 660, 3)\n",
       "15620     (340, 301, 3)\n",
       "15621    (750, 1000, 3)\n",
       "15622     (491, 650, 3)\n",
       "15623     (340, 453, 3)\n",
       "15624     (448, 660, 3)\n",
       "15625     (340, 531, 3)\n",
       "15626     (420, 596, 3)\n",
       "15627     (506, 640, 3)\n",
       "15628     (612, 625, 3)\n",
       "15629     (562, 846, 3)\n",
       "15630     (484, 660, 3)\n",
       "15631     (340, 453, 3)\n",
       "15632     (340, 511, 3)\n",
       "15633     (340, 430, 3)\n",
       "15634     (491, 660, 3)\n",
       "Name: Image Size, Length: 15635, dtype: object"
      ]
     },
     "execution_count": 21,
     "metadata": {},
     "output_type": "execute_result"
    }
   ],
   "source": [
    "AllData['Image Size']"
   ]
  },
  {
   "cell_type": "code",
   "execution_count": null,
   "metadata": {},
   "outputs": [],
   "source": []
  }
 ],
 "metadata": {
  "kernelspec": {
   "display_name": "Python 2",
   "language": "python",
   "name": "python2"
  },
  "language_info": {
   "codemirror_mode": {
    "name": "ipython",
    "version": 2
   },
   "file_extension": ".py",
   "mimetype": "text/x-python",
   "name": "python",
   "nbconvert_exporter": "python",
   "pygments_lexer": "ipython2",
   "version": "2.7.15"
  }
 },
 "nbformat": 4,
 "nbformat_minor": 2
}
