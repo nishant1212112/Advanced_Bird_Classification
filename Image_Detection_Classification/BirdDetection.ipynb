{
 "cells": [
  {
   "cell_type": "markdown",
   "metadata": {},
   "source": [
    "Bird Detection with Open CV"
   ]
  },
  {
   "cell_type": "markdown",
   "metadata": {},
   "source": [
    "Source:https://www.pyimagesearch.com/2017/09/11/object-detection-with-deep-learning-and-opencv/"
   ]
  },
  {
   "cell_type": "code",
   "execution_count": 50,
   "metadata": {},
   "outputs": [],
   "source": [
    "# import the necessary packages\n",
    "import numpy as np,pandas as pd\n",
    "import argparse\n",
    "import cv2\n",
    "import glob\n",
    "import os\n",
    "import shutil\n",
    "import warnings\n",
    "warnings.filterwarnings(\"ignore\")\n",
    "from matplotlib import pyplot as plt"
   ]
  },
  {
   "cell_type": "code",
   "execution_count": 52,
   "metadata": {},
   "outputs": [
    {
     "name": "stdout",
     "output_type": "stream",
     "text": [
      "[INFO] loading datasets...\n",
      "[INFO] loading model...\n"
     ]
    }
   ],
   "source": [
    "print(\"[INFO] loading datasets...\")\n",
    "Birds=pd.read_csv('AllData.csv')\n",
    "ImagePaths=Birds['Image Path'].values\n",
    "Sizes=Birds['Image Size'].str.replace('(','').str.replace(')','').str.split(',').values\n",
    "Sizes=[[int(float(j)) for j in i] for i in Sizes]\n",
    "Labels=Birds['Bird Class'].values\n",
    "Num_Images=ImagePaths.shape[0]\n",
    "try:\n",
    "    shutil.rmtree('Cropped')\n",
    "    os.mkdir('Cropped')\n",
    "except:\n",
    "    os.mkdir('Cropped')\n",
    "print(\"[INFO] loading model...\")\n",
    "net = cv2.dnn.readNetFromCaffe(\"MobileNetSSD_deploy.prototxt.txt\" , \"MobileNetSSD_deploy.caffemodel\" )"
   ]
  },
  {
   "cell_type": "code",
   "execution_count": 43,
   "metadata": {},
   "outputs": [],
   "source": [
    "def VisualiseImage(index):\n",
    "    img = cv2.imread(ImagePaths[index])\n",
    "    img2 = img[:,:,::-1]\n",
    "    plt.imshow(img)"
   ]
  },
  {
   "cell_type": "code",
   "execution_count": 31,
   "metadata": {},
   "outputs": [
    {
     "name": "stdout",
     "output_type": "stream",
     "text": [
      "0:19  Dealing with 20 images of sizes (3, 300, 300)\n",
      "Detected 20 birds\n",
      "20:39  Dealing with 20 images of sizes (3, 300, 300)\n",
      "Detected 25 birds\n",
      "40:59  Dealing with 20 images of sizes (3, 300, 300)\n",
      "Detected 21 birds\n"
     ]
    }
   ],
   "source": [
    "#Num_Images=60\n",
    "count=0\n",
    "DetectionStats=pd.DataFrame(columns=['path to original','path to crop','startX', 'startY', 'endX', 'endY','confidence','width','height','class'])\n",
    "for image_indices in np.array_split(range(Num_Images),(Num_Images/500)+1):\n",
    "    Images = [cv2.imread(Path) for Path in ImagePaths[image_indices]]\n",
    "    images=[cv2.resize(image,(300,300)) for image in Images]\n",
    "    images=np.stack(images,axis=0)\n",
    "    blob=cv2.dnn.blobFromImages(images, 0.007843, (300, 300), 127.5)\n",
    "    blob_shape=blob.shape\n",
    "    print(\"{}:{}  Dealing with {} images of sizes {}\".format(image_indices[0],image_indices[-1],blob_shape[0],blob.shape[1:]))\n",
    "    # pass the blob through the network and obtain the detections and\n",
    "    # predictions\n",
    "    net.setInput(blob)\n",
    "    detections = net.forward()\n",
    "    detections=detections.reshape(detections.shape[2],detections.shape[3])[[detections[0,0,:,1]==3]]\n",
    "    print(\"Detected {} birds\".format(detections.shape[0]))\n",
    "    for i in np.arange(0, detections.shape[0]):\n",
    "        count+=1\n",
    "        confidence = detections[i, 2]\n",
    "        ImageIndex=  image_indices[0]+int(detections[i, 0])\n",
    "        w=Sizes[ImageIndex][1]    \n",
    "        h=Sizes[ImageIndex][0] \n",
    "        path_to_crop=\"Cropped/Bird{}_{}.jpg\".format(ImageIndex,count)\n",
    "        path_to_original=ImagePaths[ImageIndex]\n",
    "        box = detections[i, 3:7] * np.array([w, h, w, h])\n",
    "        (startX, startY, endX, endY) = box.astype(\"int\")\n",
    "        label=Labels[ImageIndex]\n",
    "        DetectionStats.loc[count]=[path_to_original,path_to_crop,startX, startY, endX, endY,confidence,w,h,label]\n",
    "        crop_img = Images[ImageIndex-image_indices[0]][startY:endY, startX:endX,:]\n",
    "        cv2.imwrite(path_to_crop, crop_img)"
   ]
  },
  {
   "cell_type": "code",
   "execution_count": 46,
   "metadata": {},
   "outputs": [],
   "source": [
    "DetectionStats.to_csv(\"DetectionStats.csv\")"
   ]
  },
  {
   "cell_type": "code",
   "execution_count": 33,
   "metadata": {},
   "outputs": [
    {
     "name": "stdout",
     "output_type": "stream",
     "text": [
      "Overall Statistics:\n",
      "No of Images=15164\n",
      "No of Images with Detected Birds=57\n",
      "Total No of Birds Detected=66\n"
     ]
    }
   ],
   "source": [
    "print(\"Overall Statistics:\")\n",
    "print(\"No of Images={}\".format(len(ImagePaths)))\n",
    "print(\"No of Images with Detected Birds={}\".format(np.unique(DetectionStats['path to original']).shape[0]))\n",
    "print(\"Total No of Birds Detected={}\".format(DetectionStats.shape[0]))"
   ]
  },
  {
   "cell_type": "code",
   "execution_count": null,
   "metadata": {},
   "outputs": [],
   "source": []
  }
 ],
 "metadata": {
  "kernelspec": {
   "display_name": "Python 2",
   "language": "python",
   "name": "python2"
  },
  "language_info": {
   "codemirror_mode": {
    "name": "ipython",
    "version": 2
   },
   "file_extension": ".py",
   "mimetype": "text/x-python",
   "name": "python",
   "nbconvert_exporter": "python",
   "pygments_lexer": "ipython2",
   "version": "2.7.15"
  }
 },
 "nbformat": 4,
 "nbformat_minor": 2
}
