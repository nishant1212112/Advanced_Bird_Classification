{
 "cells": [
  {
   "cell_type": "code",
   "execution_count": 1,
   "metadata": {},
   "outputs": [],
   "source": [
    "def loadModel(Path):\n",
    "    # load json and create model\n",
    "    json_file = open(Path+'/model_architecture.json', 'r')\n",
    "    loaded_model_json = json_file.read()\n",
    "    json_file.close()\n",
    "    loaded_model = model_from_json(loaded_model_json)\n",
    "    # load weights into new model\n",
    "    loaded_model.load_weights(Path+\"/model_weights.h5\")\n",
    "    print(\"Loaded model from disk\",Path)\n",
    "    return loaded_model"
   ]
  },
  {
   "cell_type": "code",
   "execution_count": 2,
   "metadata": {},
   "outputs": [
    {
     "name": "stderr",
     "output_type": "stream",
     "text": [
      "Using TensorFlow backend.\n"
     ]
    }
   ],
   "source": [
    "import os,sys\n",
    "import numpy as np\n",
    "import pandas as pd\n",
    "\n",
    "from keras.preprocessing import image\n",
    "from keras.layers import Dense, GlobalAveragePooling2D\n",
    "from keras.models import Model\n",
    "from keras.preprocessing.image import ImageDataGenerator\n",
    "from keras import optimizers\n",
    "from keras.optimizers import SGD\n",
    "from keras.callbacks import ModelCheckpoint\n",
    "from keras.layers import Dropout\n",
    "# from PIL import ImageFile\n",
    "from keras.applications.resnet50 import ResNet50\n",
    "import shutil\n",
    "from keras.models import model_from_json\n",
    "import random\n",
    "from keras.applications.resnet50 import preprocess_input"
   ]
  },
  {
   "cell_type": "code",
   "execution_count": 38,
   "metadata": {},
   "outputs": [],
   "source": [
    "Classes=np.array(['Brahminy_maina', 'Bulbul', 'Collared_dove', 'Common_myna',\n",
    "       'Common_sparrow', 'Coppersmith', 'Crow_pheasant', 'Drongo',\n",
    "       'Golden_backed_woodpecker', 'Green Barbet', 'Hoopoe', 'House_Crow',\n",
    "       'Indian_hornbill', 'Indian_robin', 'Jungle_Crow', 'Jungle_babbler',\n",
    "       'Koel', 'Little_green_beeeater', 'Magpie_robin', 'Owlet',\n",
    "       'Parakeet', 'Pariah_kite', 'Partridge', 'Peacock', 'Pied_myna',\n",
    "       'Pied_wagtail', 'Pigeon', 'Pond_heron', 'Red_wattled_lapwing',\n",
    "       'Rufous_backed_shrike', 'Shikra', 'Sunbird', 'Tailor_bird',\n",
    "       'White_breasted_kingfisher', 'White_breasted_water_hen'])"
   ]
  },
  {
   "cell_type": "code",
   "execution_count": 3,
   "metadata": {},
   "outputs": [
    {
     "name": "stdout",
     "output_type": "stream",
     "text": [
      "('Loaded model from disk', 'Resnet50/pretrained2')\n"
     ]
    }
   ],
   "source": [
    "model=loadModel('Resnet50/pretrained2')\n",
    "model.load_weights('v2_105.hdf5')"
   ]
  },
  {
   "cell_type": "code",
   "execution_count": 46,
   "metadata": {},
   "outputs": [],
   "source": [
    "import cv2\n",
    "def predict(path):\n",
    "    im=cv2.imread(path)\n",
    "    im1=cv2.resize(im,(224,224))\n",
    "    im1=im1.reshape((1,224,224,3))\n",
    "    print(im1.shape)\n",
    "    pred=model.predict(im1)\n",
    "    return Classes[np.argmax(pred,axis=1)][0]"
   ]
  },
  {
   "cell_type": "code",
   "execution_count": 47,
   "metadata": {},
   "outputs": [
    {
     "name": "stdout",
     "output_type": "stream",
     "text": [
      "(1, 224, 224, 3)\n"
     ]
    },
    {
     "data": {
      "text/plain": [
       "'Pigeon'"
      ]
     },
     "execution_count": 47,
     "metadata": {},
     "output_type": "execute_result"
    }
   ],
   "source": [
    "predict('/Users/kumarshubham/Downloads/sample2.jpeg')"
   ]
  },
  {
   "cell_type": "code",
   "execution_count": 44,
   "metadata": {},
   "outputs": [
    {
     "data": {
      "text/plain": [
       "'Pigeon'"
      ]
     },
     "execution_count": 44,
     "metadata": {},
     "output_type": "execute_result"
    }
   ],
   "source": [
    "predict('/Users/kumarshubham/Downloads/sample3.jpg')"
   ]
  },
  {
   "cell_type": "code",
   "execution_count": 32,
   "metadata": {},
   "outputs": [],
   "source": []
  },
  {
   "cell_type": "code",
   "execution_count": 33,
   "metadata": {},
   "outputs": [
    {
     "data": {
      "text/plain": [
       "array([26])"
      ]
     },
     "execution_count": 33,
     "metadata": {},
     "output_type": "execute_result"
    }
   ],
   "source": []
  },
  {
   "cell_type": "code",
   "execution_count": null,
   "metadata": {},
   "outputs": [],
   "source": []
  }
 ],
 "metadata": {
  "kernelspec": {
   "display_name": "Python 2",
   "language": "python",
   "name": "python2"
  },
  "language_info": {
   "codemirror_mode": {
    "name": "ipython",
    "version": 2
   },
   "file_extension": ".py",
   "mimetype": "text/x-python",
   "name": "python",
   "nbconvert_exporter": "python",
   "pygments_lexer": "ipython2",
   "version": "2.7.15"
  }
 },
 "nbformat": 4,
 "nbformat_minor": 2
}
