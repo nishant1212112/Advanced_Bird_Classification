{
 "cells": [
  {
   "cell_type": "code",
   "execution_count": 1,
   "metadata": {},
   "outputs": [],
   "source": [
    "import os\n",
    "import subprocess\n",
    "import sys\n",
    "import time\n",
    "import matplotlib\n",
    "matplotlib.use('Agg')\n",
    "import librosa\n",
    "import numpy as np\n",
    "import pandas as pd\n",
    "import pydub\n",
    "import sklearn as sk\n",
    "from numpy import *\n",
    "from tqdm import *\n",
    "import glob\n",
    "%matplotlib inline\n",
    "import matplotlib.pyplot as plt\n",
    "from librosa import display\n",
    "from sklearn.metrics import accuracy_score"
   ]
  },
  {
   "cell_type": "code",
   "execution_count": 2,
   "metadata": {},
   "outputs": [],
   "source": [
    "X=[]\n",
    "y=[]\n",
    "z=[]"
   ]
  },
  {
   "cell_type": "code",
   "execution_count": 27,
   "metadata": {},
   "outputs": [
    {
     "name": "stdout",
     "output_type": "stream",
     "text": [
      "\\alexandrine_parakeet\n",
      "\\bulbul\n",
      "\\common_myna\n",
      "\\house_crow\n",
      "\\house_sparrow\n",
      "\\indian_peafowl\n",
      "\\indian_robin\n",
      "\\jungle_babbler\n",
      "\\koel\n",
      "\\rock_dove\n",
      "\\tailor_bird\n"
     ]
    }
   ],
   "source": [
    "files = glob.glob(\"D:/iitd/SEM6/COP315/xeno_merged/\"+\"**\", recursive=False)\n",
    "i=0\n",
    "for file in files:\n",
    "    mp3s = glob.glob(file+\"/**.npy\", recursive=False)\n",
    "    i+=1\n",
    "    print(file[31:])\n",
    "    for mp3 in mp3s:\n",
    "        a=np.load(mp3);\n",
    "        if(np.shape(a)==(170,1000)):\n",
    "            x=a-mean(a)\n",
    "            X.append(x)\n",
    "            y.append(i)\n",
    "            z.append(file[32:])\n",
    "        else:\n",
    "            print(np.shape(a))\n",
    "        "
   ]
  },
  {
   "cell_type": "code",
   "execution_count": 28,
   "metadata": {},
   "outputs": [],
   "source": [
    "bird_df=pd.DataFrame({'spec':X,'class no':y,'class name':z})"
   ]
  },
  {
   "cell_type": "code",
   "execution_count": 29,
   "metadata": {},
   "outputs": [],
   "source": [
    "import numpy as np\n",
    "from sklearn.model_selection import train_test_split\n",
    "X_train, X_test, y_train, y_test = train_test_split(X, y, test_size=0.2, random_state=42)"
   ]
  },
  {
   "cell_type": "code",
   "execution_count": 30,
   "metadata": {},
   "outputs": [],
   "source": [
    "import keras\n",
    "from keras.models import Sequential\n",
    "from keras.layers import Dense, Dropout, Flatten, Conv2D, MaxPooling2D\n",
    "from keras.utils import to_categorical"
   ]
  },
  {
   "cell_type": "code",
   "execution_count": 32,
   "metadata": {},
   "outputs": [
    {
     "name": "stdout",
     "output_type": "stream",
     "text": [
      "_________________________________________________________________\n",
      "Layer (type)                 Output Shape              Param #   \n",
      "=================================================================\n",
      "conv2d_4 (Conv2D)            (None, 1, 981, 128)       435328    \n",
      "_________________________________________________________________\n",
      "max_pooling2d_4 (MaxPooling2 (None, 1, 1, 128)         0         \n",
      "_________________________________________________________________\n",
      "dropout_7 (Dropout)          (None, 1, 1, 128)         0         \n",
      "_________________________________________________________________\n",
      "flatten_4 (Flatten)          (None, 128)               0         \n",
      "_________________________________________________________________\n",
      "dense_7 (Dense)              (None, 64)                8256      \n",
      "_________________________________________________________________\n",
      "dropout_8 (Dropout)          (None, 64)                0         \n",
      "_________________________________________________________________\n",
      "dense_8 (Dense)              (None, 12)                780       \n",
      "=================================================================\n",
      "Total params: 444,364\n",
      "Trainable params: 444,364\n",
      "Non-trainable params: 0\n",
      "_________________________________________________________________\n"
     ]
    }
   ],
   "source": [
    "model = Sequential()\n",
    "model.add(Conv2D(128, kernel_size=(170,20), activation='relu', input_shape=(170,1000,1)))\n",
    "model.add(MaxPooling2D(pool_size=(1,981)))\n",
    "model.add(Dropout(0.25))\n",
    "model.add(Flatten())\n",
    "model.add(Dense(64, activation='relu'))\n",
    "model.add(Dropout(0.25))\n",
    "model.add(Dense(12, activation='softmax'))\n",
    "model.compile(loss=keras.losses.categorical_crossentropy,\n",
    "              optimizer=keras.optimizers.Adadelta(),\n",
    "              metrics=['accuracy'])\n",
    "model.summary()"
   ]
  },
  {
   "cell_type": "code",
   "execution_count": 33,
   "metadata": {},
   "outputs": [],
   "source": [
    "y_train_hot = to_categorical(y_train)\n",
    "y_test_hot = to_categorical(y_test)"
   ]
  },
  {
   "cell_type": "code",
   "execution_count": 34,
   "metadata": {},
   "outputs": [
    {
     "data": {
      "text/plain": [
       "(1711, 170, 1000)"
      ]
     },
     "execution_count": 34,
     "metadata": {},
     "output_type": "execute_result"
    }
   ],
   "source": [
    "np.shape(X_train)"
   ]
  },
  {
   "cell_type": "code",
   "execution_count": 35,
   "metadata": {},
   "outputs": [],
   "source": [
    "X_train_np = np.asarray(X_train)\n",
    "X_train_np = X_train_np.reshape(np.shape(X_train)[0],170,1000,1)\n",
    "np.shape(X_train_np)\n",
    "X_test_np = np.asarray(X_test)\n",
    "X_test_np = X_test_np.reshape(np.shape(X_test)[0],170,1000,1)"
   ]
  },
  {
   "cell_type": "code",
   "execution_count": null,
   "metadata": {
    "scrolled": true
   },
   "outputs": [],
   "source": [
    "model.fit(X_train_np, y_train_hot, batch_size=10, epochs=40, verbose=1, validation_data=(X_test_np, y_test_hot))"
   ]
  },
  {
   "cell_type": "code",
   "execution_count": 13,
   "metadata": {},
   "outputs": [],
   "source": [
    "X2=[]\n",
    "y2=[]\n",
    "z2=[]"
   ]
  },
  {
   "cell_type": "code",
   "execution_count": 14,
   "metadata": {},
   "outputs": [
    {
     "name": "stdout",
     "output_type": "stream",
     "text": [
      "alexandrine_parakeet\n",
      "bulbul\n",
      "common_myna\n",
      "drongo\n",
      "hoopoe\n",
      "house_crow\n",
      "house_sparrow\n",
      "indian_peafowl\n",
      "indian_robin\n",
      "jungle_babbler\n",
      "koel\n",
      "red_wattled_lapwing\n",
      "rock_dove\n",
      "tailorbird\n",
      "treepie\n"
     ]
    }
   ],
   "source": [
    "files = glob.glob(\"D:/iitd/SEM6/COP315/new_site_11/\"+\"**\", recursive=False)\n",
    "i=0\n",
    "for file in files:\n",
    "    mp3s = glob.glob(file+\"/**.npy\", recursive=False)\n",
    "    i+=1\n",
    "    print(file[32:])\n",
    "    for mp3 in mp3s:\n",
    "        a=np.load(mp3);\n",
    "        if(np.shape(a)==(170,1000)):\n",
    "            x=a-mean(a)\n",
    "            X2.append(x[:,:])\n",
    "            y2.append(i)\n",
    "            z2.append(file[32:])"
   ]
  },
  {
   "cell_type": "code",
   "execution_count": 15,
   "metadata": {},
   "outputs": [
    {
     "data": {
      "text/plain": [
       "(476, 170, 1000)"
      ]
     },
     "execution_count": 15,
     "metadata": {},
     "output_type": "execute_result"
    }
   ],
   "source": [
    "np.shape(X2)"
   ]
  },
  {
   "cell_type": "code",
   "execution_count": 16,
   "metadata": {},
   "outputs": [],
   "source": [
    "X2_np = np.asarray(X2)\n",
    "X2_np = X2_np.reshape(np.shape(X2_np)[0],170,1000,1)"
   ]
  },
  {
   "cell_type": "code",
   "execution_count": 17,
   "metadata": {},
   "outputs": [],
   "source": [
    "y_pred=model.predict(X2_np)"
   ]
  },
  {
   "cell_type": "code",
   "execution_count": 18,
   "metadata": {},
   "outputs": [
    {
     "data": {
      "text/plain": [
       "(476, 16)"
      ]
     },
     "execution_count": 18,
     "metadata": {},
     "output_type": "execute_result"
    }
   ],
   "source": [
    "np.shape(y_pred)"
   ]
  },
  {
   "cell_type": "code",
   "execution_count": 19,
   "metadata": {},
   "outputs": [],
   "source": [
    "yp=np.argmax(y_pred,axis=1)"
   ]
  },
  {
   "cell_type": "code",
   "execution_count": 20,
   "metadata": {},
   "outputs": [
    {
     "name": "stdout",
     "output_type": "stream",
     "text": [
      "0.4789915966386555\n"
     ]
    },
    {
     "name": "stderr",
     "output_type": "stream",
     "text": [
      "D:\\C\\anaconda\\lib\\site-packages\\sklearn\\metrics\\classification.py:1145: UndefinedMetricWarning: Recall and F-score are ill-defined and being set to 0.0 in labels with no true samples.\n",
      "  'recall', 'true', average, warn_for)\n"
     ]
    },
    {
     "name": "stdout",
     "output_type": "stream",
     "text": [
      "              precision    recall  f1-score   support\n",
      "\n",
      "           1       0.00      0.00      0.00         8\n",
      "           2       0.76      0.61      0.68        77\n",
      "           3       0.34      0.39      0.37        76\n",
      "           4       0.40      0.31      0.35        13\n",
      "           5       0.09      0.22      0.12         9\n",
      "           6       0.94      0.77      0.85        22\n",
      "           7       0.00      0.00      0.00         0\n",
      "           8       0.44      0.45      0.44        31\n",
      "           9       1.00      0.37      0.54        46\n",
      "          10       0.24      0.48      0.32        21\n",
      "          11       0.82      0.81      0.82        52\n",
      "          12       0.75      0.20      0.32        15\n",
      "          13       0.47      0.52      0.49        44\n",
      "          14       0.61      0.31      0.41        62\n",
      "          15       0.00      0.00      0.00         0\n",
      "\n",
      "   micro avg       0.48      0.48      0.48       476\n",
      "   macro avg       0.46      0.36      0.38       476\n",
      "weighted avg       0.61      0.48      0.51       476\n",
      "\n"
     ]
    }
   ],
   "source": [
    "print(accuracy_score(y2, yp))\n",
    "from sklearn.metrics import classification_report\n",
    "print(classification_report(y2, yp))"
   ]
  },
  {
   "cell_type": "code",
   "execution_count": null,
   "metadata": {},
   "outputs": [],
   "source": [
    "model.save_weights(\"11_classes_xeno.hdf5\")"
   ]
  },
  {
   "cell_type": "code",
   "execution_count": 56,
   "metadata": {},
   "outputs": [
    {
     "name": "stdout",
     "output_type": "stream",
     "text": [
      "\n"
     ]
    }
   ],
   "source": [
    "X2=[]\n",
    "file=\"D:/iitd/SEM6/COP315/test/\"\n",
    "mp3s = glob.glob(file+\"/**.npy\", recursive=False)\n",
    "print(file[32:])\n",
    "for mp3 in mp3s:\n",
    "    a=np.load(mp3);\n",
    "    if(np.shape(a)==(170,1000)):\n",
    "        x=a-mean(a)\n",
    "        X2.append(x[:,:])\n",
    "n=np.shape(X2)[0]\n",
    "X2_np = np.asarray(X2)\n",
    "X2_np = X2_np.reshape(n,170,1000,1)"
   ]
  },
  {
   "cell_type": "code",
   "execution_count": 57,
   "metadata": {},
   "outputs": [],
   "source": [
    "y_pred=model.predict(X2_np)\n",
    "yp=np.argmax(y_pred,axis=1)"
   ]
  },
  {
   "cell_type": "code",
   "execution_count": 58,
   "metadata": {},
   "outputs": [
    {
     "data": {
      "text/plain": [
       "array([14,  2,  4,  1,  1,  1, 11,  2, 11, 12,  9, 16, 11, 11, 11, 11, 11,\n",
       "        2, 11, 11,  1,  1,  9,  9,  9, 15, 15, 15, 15,  2,  4,  2,  9,  9],\n",
       "      dtype=int64)"
      ]
     },
     "execution_count": 58,
     "metadata": {},
     "output_type": "execute_result"
    }
   ],
   "source": [
    "yp"
   ]
  },
  {
   "cell_type": "code",
   "execution_count": 37,
   "metadata": {},
   "outputs": [
    {
     "name": "stdout",
     "output_type": "stream",
     "text": [
      "{1: 'alexandrine_parakeet', 2: 'bulbul', 3: 'common_myna', 4: 'house_crow', 5: 'house_sparrow', 6: 'indian_peafowl', 7: 'indian_robin', 8: 'jungle_babbler', 9: 'koel', 10: 'rock_dove', 11: 'tailor_bird'}\n"
     ]
    }
   ],
   "source": [
    "class_dict={}\n",
    "for i in range(np.shape(bird_df['class name'])[0]):\n",
    "    class_dict[bird_df['class no'][i]]=bird_df['class name'][i][:]\n",
    "print(class_dict)\n"
   ]
  },
  {
   "cell_type": "code",
   "execution_count": 38,
   "metadata": {},
   "outputs": [],
   "source": [
    "import pickle\n",
    "\n",
    "with open('D:/iitd/SEM6/COP315/bird_class_11_dict.pickle', 'wb') as handle:\n",
    "    pickle.dump(class_dict, handle, protocol=pickle.HIGHEST_PROTOCOL)\n"
   ]
  },
  {
   "cell_type": "code",
   "execution_count": 67,
   "metadata": {},
   "outputs": [
    {
     "name": "stdout",
     "output_type": "stream",
     "text": [
      "pec\\rose-ringed_parakeet\n",
      "pec\\brahamini_myna\n",
      "pec\\common_myna\n",
      "pec\\alexandrine_parakeet\n",
      "pec\\alexandrine_parakeet\n",
      "pec\\alexandrine_parakeet\n",
      "pec\\red_vented_bulbul\n",
      "pec\\brahamini_myna\n",
      "pec\\red_vented_bulbul\n",
      "pec\\red_whiskered_bulbul\n",
      "pec\\jungle_babbler\n",
      "pec\\yellow_footed_pigeon\n",
      "pec\\red_vented_bulbul\n",
      "pec\\red_vented_bulbul\n",
      "pec\\red_vented_bulbul\n",
      "pec\\red_vented_bulbul\n",
      "pec\\red_vented_bulbul\n",
      "pec\\brahamini_myna\n",
      "pec\\red_vented_bulbul\n",
      "pec\\red_vented_bulbul\n",
      "pec\\alexandrine_parakeet\n",
      "pec\\alexandrine_parakeet\n",
      "pec\\jungle_babbler\n",
      "pec\\jungle_babbler\n",
      "pec\\jungle_babbler\n",
      "pec\\tailor_bird\n",
      "pec\\tailor_bird\n",
      "pec\\tailor_bird\n",
      "pec\\tailor_bird\n",
      "pec\\brahamini_myna\n",
      "pec\\common_myna\n",
      "pec\\brahamini_myna\n",
      "pec\\jungle_babbler\n",
      "pec\\jungle_babbler\n"
     ]
    }
   ],
   "source": [
    "for i in range(np.shape(yp)[0]):\n",
    "    print(class_dict[yp[i]])"
   ]
  },
  {
   "cell_type": "code",
   "execution_count": 69,
   "metadata": {},
   "outputs": [],
   "source": [
    "model.save_weights('my_model.h5')"
   ]
  },
  {
   "cell_type": "code",
   "execution_count": null,
   "metadata": {},
   "outputs": [],
   "source": []
  }
 ],
 "metadata": {
  "kernelspec": {
   "display_name": "Python 3",
   "language": "python",
   "name": "python3"
  },
  "language_info": {
   "codemirror_mode": {
    "name": "ipython",
    "version": 3
   },
   "file_extension": ".py",
   "mimetype": "text/x-python",
   "name": "python",
   "nbconvert_exporter": "python",
   "pygments_lexer": "ipython3",
   "version": "3.6.6"
  }
 },
 "nbformat": 4,
 "nbformat_minor": 2
}
