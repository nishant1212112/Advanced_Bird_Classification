{
 "cells": [
  {
   "cell_type": "code",
   "execution_count": 1,
   "metadata": {},
   "outputs": [],
   "source": [
    "import os\n",
    "import subprocess\n",
    "import sys\n",
    "import time\n",
    "import matplotlib\n",
    "matplotlib.use('Agg')\n",
    "import librosa\n",
    "import numpy as np\n",
    "import pandas as pd\n",
    "import pydub\n",
    "import sklearn as sk\n",
    "from numpy import *\n",
    "from tqdm import *\n",
    "import glob\n",
    "%matplotlib inline\n",
    "import matplotlib.pyplot as plt\n",
    "from librosa import display"
   ]
  },
  {
   "cell_type": "code",
   "execution_count": 64,
   "metadata": {},
   "outputs": [],
   "source": [
    "X=[]\n",
    "y=[]\n",
    "z=[]"
   ]
  },
  {
   "cell_type": "code",
   "execution_count": 65,
   "metadata": {},
   "outputs": [
    {
     "name": "stdout",
     "output_type": "stream",
     "text": [
      "xandrine_parakeet\n",
      "hmany_myna\n",
      "bul\n",
      "lored_dove\n",
      "mon_crow\n",
      "mon_myna\n",
      "mon_sparrow\n",
      "en_pigeon\n",
      "ian_robin\n",
      "l\n",
      "eon\n",
      "_parakeet\n",
      "lor_bird\n"
     ]
    }
   ],
   "source": [
    "files = glob.glob(\"D:/iitd/SEM6/COP315/delhi_bird/\"+\"**\", recursive=False)\n",
    "i=0\n",
    "for file in files:\n",
    "    mp3s = glob.glob(file+\"/**.npy\", recursive=False)\n",
    "    i+=1\n",
    "    print(file[34:])\n",
    "    for mp3 in mp3s:\n",
    "        a=np.load(mp3);\n",
    "        if(np.shape(a)==(170,1000)):\n",
    "            x=a-mean(a)\n",
    "            X.append(x)\n",
    "            y.append(i)\n",
    "            z.append(file[31:])\n",
    "            \n"
   ]
  },
  {
   "cell_type": "code",
   "execution_count": 66,
   "metadata": {},
   "outputs": [],
   "source": [
    "bird_df=pd.DataFrame({'spec':X,'class no':y,'class name':z})"
   ]
  },
  {
   "cell_type": "code",
   "execution_count": 67,
   "metadata": {},
   "outputs": [
    {
     "data": {
      "text/plain": [
       "(925,)"
      ]
     },
     "execution_count": 67,
     "metadata": {},
     "output_type": "execute_result"
    }
   ],
   "source": [
    "np.shape(bird_df['spec'])"
   ]
  },
  {
   "cell_type": "code",
   "execution_count": 12,
   "metadata": {},
   "outputs": [
    {
     "data": {
      "text/plain": [
       "(289, 170)"
      ]
     },
     "execution_count": 12,
     "metadata": {},
     "output_type": "execute_result"
    }
   ],
   "source": [
    "np.shape(np.mean(X,axis=2))"
   ]
  },
  {
   "cell_type": "code",
   "execution_count": 68,
   "metadata": {},
   "outputs": [],
   "source": [
    "X_mean=np.max(X,axis=2)\n",
    "bird_df['mean']=list(X_mean)"
   ]
  },
  {
   "cell_type": "code",
   "execution_count": 14,
   "metadata": {},
   "outputs": [
    {
     "data": {
      "text/plain": [
       "(170,)"
      ]
     },
     "execution_count": 14,
     "metadata": {},
     "output_type": "execute_result"
    }
   ],
   "source": [
    "np.shape(bird_df['mean'][1])"
   ]
  },
  {
   "cell_type": "code",
   "execution_count": 94,
   "metadata": {},
   "outputs": [],
   "source": [
    "import numpy as np\n",
    "from sklearn.model_selection import train_test_split\n",
    "X_train, X_test, y_train, y_test = train_test_split(X_mean, y, test_size=0.1, random_state=42)"
   ]
  },
  {
   "cell_type": "code",
   "execution_count": 95,
   "metadata": {},
   "outputs": [],
   "source": [
    "from sklearn import tree\n",
    "clf = tree.DecisionTreeClassifier()\n",
    "clf = clf.fit(X_train,y_train)"
   ]
  },
  {
   "cell_type": "code",
   "execution_count": 96,
   "metadata": {},
   "outputs": [],
   "source": [
    "y_pred=clf.predict(X_test)"
   ]
  },
  {
   "cell_type": "code",
   "execution_count": 97,
   "metadata": {
    "scrolled": false
   },
   "outputs": [
    {
     "data": {
      "text/plain": [
       "0.8064516129032258"
      ]
     },
     "execution_count": 97,
     "metadata": {},
     "output_type": "execute_result"
    }
   ],
   "source": [
    "from sklearn.metrics import accuracy_score\n",
    "accuracy_score(y_test, y_pred)"
   ]
  },
  {
   "cell_type": "code",
   "execution_count": 47,
   "metadata": {},
   "outputs": [
    {
     "name": "stdout",
     "output_type": "stream",
     "text": [
      "{1: 'alexandrine_parakeet', 2: 'blue_rock_pigeon', 3: 'brahiminy_myna', 4: 'bulbul', 5: 'collared_dove', 6: 'common_crow', 7: 'common_myna', 8: 'common_sparrow', 9: 'coppersmith', 10: 'crow_pheasant', 11: 'drongo', 12: 'green_barbet', 13: 'green_pigeon', 14: 'hoopoe', 15: 'indian_hornbill', 16: 'indian_robin', 17: 'jungle_babbler', 18: 'koel', 19: 'peacock', 20: 'pied_wagtail', 21: 'purple_sunbird', 22: 'red_vented_bulbul', 23: 'red_wattled_lapwing', 24: 'red_whiskered_bulbul', 25: 'rose_ringed_parakeet', 26: 'shikara', 27: 'tailorbird', 28: 'white_breasted_kingfisher', 29: 'yellow_wattled_lapwing'}\n"
     ]
    }
   ],
   "source": [
    "class_dict={}\n",
    "for i in range(np.shape(bird_df['class name'])[0]):\n",
    "    class_dict[bird_df['class no'][i]]=bird_df['class name'][i]\n",
    "print(class_dict)"
   ]
  },
  {
   "cell_type": "code",
   "execution_count": 58,
   "metadata": {},
   "outputs": [
    {
     "name": "stdout",
     "output_type": "stream",
     "text": [
      "red_wattled_lapwing common_myna\n",
      "common_sparrow koel\n",
      "common_myna white_breasted_kingfisher\n",
      "common_sparrow common_crow\n",
      "shikara pied_wagtail\n",
      "red_wattled_lapwing blue_rock_pigeon\n",
      "yellow_wattled_lapwing common_myna\n",
      "blue_rock_pigeon peacock\n",
      "collared_dove coppersmith\n",
      "purple_sunbird purple_sunbird\n",
      "red_wattled_lapwing red_wattled_lapwing\n",
      "red_whiskered_bulbul collared_dove\n",
      "common_myna drongo\n",
      "shikara red_wattled_lapwing\n",
      "brahiminy_myna common_myna\n",
      "tailorbird red_wattled_lapwing\n",
      "crow_pheasant blue_rock_pigeon\n",
      "drongo red_whiskered_bulbul\n",
      "drongo red_whiskered_bulbul\n",
      "rose_ringed_parakeet common_sparrow\n",
      "crow_pheasant tailorbird\n",
      "hoopoe coppersmith\n",
      "tailorbird drongo\n",
      "collared_dove tailorbird\n",
      "peacock common_sparrow\n",
      "indian_robin yellow_wattled_lapwing\n",
      "purple_sunbird indian_robin\n",
      "purple_sunbird indian_robin\n",
      "drongo drongo\n",
      "common_sparrow common_sparrow\n",
      "peacock crow_pheasant\n",
      "pied_wagtail pied_wagtail\n",
      "bulbul jungle_babbler\n",
      "tailorbird red_whiskered_bulbul\n",
      "pied_wagtail pied_wagtail\n",
      "green_barbet koel\n",
      "white_breasted_kingfisher red_whiskered_bulbul\n",
      "rose_ringed_parakeet indian_robin\n",
      "bulbul red_vented_bulbul\n",
      "drongo green_barbet\n",
      "common_sparrow koel\n",
      "shikara shikara\n",
      "bulbul jungle_babbler\n",
      "pied_wagtail hoopoe\n",
      "coppersmith collared_dove\n",
      "red_wattled_lapwing bulbul\n",
      "koel collared_dove\n",
      "koel koel\n",
      "shikara indian_robin\n",
      "crow_pheasant koel\n",
      "rose_ringed_parakeet rose_ringed_parakeet\n",
      "tailorbird shikara\n",
      "crow_pheasant crow_pheasant\n",
      "red_wattled_lapwing red_vented_bulbul\n",
      "bulbul peacock\n",
      "common_myna peacock\n",
      "white_breasted_kingfisher white_breasted_kingfisher\n",
      "collared_dove blue_rock_pigeon\n"
     ]
    }
   ],
   "source": [
    "j=0\n",
    "for i in y_pred:\n",
    "    print(class_dict[i],class_dict[y_test[j]])\n",
    "    j+=1\n"
   ]
  },
  {
   "cell_type": "code",
   "execution_count": 98,
   "metadata": {},
   "outputs": [],
   "source": [
    "X2=[]\n",
    "y2=[]\n",
    "z2=[]"
   ]
  },
  {
   "cell_type": "code",
   "execution_count": 99,
   "metadata": {},
   "outputs": [
    {
     "name": "stdout",
     "output_type": "stream",
     "text": [
      "alexandrine_parakeet\n",
      "brahmany_myna\n",
      "bulbul\n",
      "collared_dove\n",
      "common_crow\n",
      "common_myna\n",
      "common_sparrow\n",
      "green_pigeon\n",
      "indian_robin\n",
      "koel\n",
      "pigeon\n",
      "red_parakeet\n",
      "tailorbird\n"
     ]
    }
   ],
   "source": [
    "files = glob.glob(\"D:/iitd/SEM6/COP315/new_site_data_14/\"+\"**\", recursive=False)\n",
    "i=0\n",
    "for file in files:\n",
    "    mp3s = glob.glob(file+\"/**.npy\", recursive=False)\n",
    "    i+=1\n",
    "    print(file[37:])\n",
    "    for mp3 in mp3s:\n",
    "        a=np.load(mp3);\n",
    "        if(np.shape(a)==(170,1000)):\n",
    "            x=a-mean(a)\n",
    "            X2.append(x[:,400:])\n",
    "            y2.append(i)\n",
    "            z2.append(file[37:])"
   ]
  },
  {
   "cell_type": "code",
   "execution_count": 100,
   "metadata": {},
   "outputs": [],
   "source": [
    "X_mean2=np.max(X2,axis=2)\n",
    "y_pred=clf.predict(X_mean2)"
   ]
  },
  {
   "cell_type": "code",
   "execution_count": 101,
   "metadata": {},
   "outputs": [
    {
     "name": "stdout",
     "output_type": "stream",
     "text": [
      "[12 12  8  9 12 13  8  3  2  2  7  2  8  2  7  9  3  5  4  6  7 11  2 10\n",
      "  8 13 13 10 10 11 13  2  7  5 11  9 11  7  9  9 11  5  8  7  6  8 11  8\n",
      "  8  7  2  8  7  9  7  9  8  9  2  9  7  9 13  7  6  7  9  7  7  2  8 10\n",
      "  2  9 12  9  7  7  2  9  8 10 12  5 13 10 11 13  5  5  5  8 11 11 10  5\n",
      "  8  3  9  2  7  3 11  6  9  8  2  6 11 13 11 11  7  7]\n",
      "[1, 1, 1, 2, 2, 2, 2, 2, 3, 3, 3, 3, 3, 3, 3, 4, 4, 4, 4, 4, 4, 4, 4, 4, 4, 4, 5, 5, 5, 5, 5, 5, 5, 5, 5, 5, 6, 6, 6, 6, 6, 6, 6, 6, 6, 6, 6, 6, 6, 6, 7, 7, 7, 7, 7, 7, 7, 7, 7, 7, 7, 7, 7, 7, 7, 7, 7, 7, 7, 8, 8, 8, 9, 9, 9, 9, 9, 9, 9, 9, 9, 9, 9, 10, 10, 10, 10, 10, 10, 10, 10, 10, 10, 10, 10, 10, 10, 10, 10, 13, 13, 13, 13, 13, 13, 13, 13, 13, 13, 13, 13, 13, 13, 13]\n",
      "1 12\n",
      "1 12\n",
      "1 8\n",
      "2 9\n",
      "2 12\n",
      "2 13\n",
      "2 8\n",
      "2 3\n",
      "3 2\n",
      "3 2\n",
      "3 7\n",
      "3 2\n",
      "3 8\n",
      "3 2\n",
      "3 7\n",
      "4 9\n",
      "4 3\n",
      "4 5\n",
      "4 4\n",
      "4 6\n",
      "4 7\n",
      "4 11\n",
      "4 2\n",
      "4 10\n",
      "4 8\n",
      "4 13\n",
      "5 13\n",
      "5 10\n",
      "5 10\n",
      "5 11\n",
      "5 13\n",
      "5 2\n",
      "5 7\n",
      "5 5\n",
      "5 11\n",
      "5 9\n",
      "6 11\n",
      "6 7\n",
      "6 9\n",
      "6 9\n",
      "6 11\n",
      "6 5\n",
      "6 8\n",
      "6 7\n",
      "6 6\n",
      "6 8\n",
      "6 11\n",
      "6 8\n",
      "6 8\n",
      "6 7\n",
      "7 2\n",
      "7 8\n",
      "7 7\n",
      "7 9\n",
      "7 7\n",
      "7 9\n",
      "7 8\n",
      "7 9\n",
      "7 2\n",
      "7 9\n",
      "7 7\n",
      "7 9\n",
      "7 13\n",
      "7 7\n",
      "7 6\n",
      "7 7\n",
      "7 9\n",
      "7 7\n",
      "7 7\n",
      "8 2\n",
      "8 8\n",
      "8 10\n",
      "9 2\n",
      "9 9\n",
      "9 12\n",
      "9 9\n",
      "9 7\n",
      "9 7\n",
      "9 2\n",
      "9 9\n",
      "9 8\n",
      "9 10\n",
      "9 12\n",
      "10 5\n",
      "10 13\n",
      "10 10\n",
      "10 11\n",
      "10 13\n",
      "10 5\n",
      "10 5\n",
      "10 5\n",
      "10 8\n",
      "10 11\n",
      "10 11\n",
      "10 10\n",
      "10 5\n",
      "10 8\n",
      "10 3\n",
      "10 9\n",
      "13 2\n",
      "13 7\n",
      "13 3\n",
      "13 11\n",
      "13 6\n",
      "13 9\n",
      "13 8\n",
      "13 2\n",
      "13 6\n",
      "13 11\n",
      "13 13\n",
      "13 11\n",
      "13 11\n",
      "13 7\n",
      "13 7\n"
     ]
    }
   ],
   "source": [
    "print(y_pred)\n",
    "print(y2)\n",
    "j=0\n",
    "for i in y_pred:\n",
    "    print(y2[j],i)\n",
    "    j+=1\n"
   ]
  },
  {
   "cell_type": "code",
   "execution_count": null,
   "metadata": {},
   "outputs": [],
   "source": [
    "accuracy_score(y2, y_pred)"
   ]
  },
  {
   "cell_type": "code",
   "execution_count": null,
   "metadata": {},
   "outputs": [],
   "source": [
    "from sklearn.cluster import KMeans\n",
    "import numpy as np\n",
    "kmeans = KMeans(n_clusters=2, random_state=0).fit(X)\n",
    "kmeans.labels_\n",
    "\n",
    "kmeans.predict([[0, 0], [12, 3]])\n",
    "\n",
    "kmeans.cluster_centers_"
   ]
  }
 ],
 "metadata": {
  "kernelspec": {
   "display_name": "Python 3",
   "language": "python",
   "name": "python3"
  },
  "language_info": {
   "codemirror_mode": {
    "name": "ipython",
    "version": 3
   },
   "file_extension": ".py",
   "mimetype": "text/x-python",
   "name": "python",
   "nbconvert_exporter": "python",
   "pygments_lexer": "ipython3",
   "version": "3.6.6"
  }
 },
 "nbformat": 4,
 "nbformat_minor": 2
}
