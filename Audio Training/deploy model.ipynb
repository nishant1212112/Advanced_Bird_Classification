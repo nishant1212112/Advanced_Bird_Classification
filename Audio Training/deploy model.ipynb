{
 "cells": [
  {
   "cell_type": "code",
   "execution_count": 2,
   "metadata": {},
   "outputs": [],
   "source": [
    "import sys\n",
    "import librosa\n",
    "import numpy as np\n",
    "import pandas as pd\n",
    "import pydub\n",
    "import sklearn as sk\n",
    "from numpy import *\n",
    "from librosa import display\n",
    "import pickle"
   ]
  },
  {
   "cell_type": "code",
   "execution_count": null,
   "metadata": {},
   "outputs": [],
   "source": [
    "def load_audio(path):\n",
    "    audio = pydub.AudioSegment.from_file(path).set_frame_rate(44100).set_channels(1)\n",
    "    audio = audio\n",
    "    while(len(audio)<10000):\n",
    "        audio=audio+audio\n",
    "    raw = (np.fromstring(audio._data, dtype=\"int16\") + 0.5) / (0x7FFF + 0.5)   # convert to float\n",
    "#     raw=(raw-(raw.mean()))/raw.std()\n",
    "    return raw"
   ]
  },
  {
   "cell_type": "code",
   "execution_count": null,
   "metadata": {},
   "outputs": [],
   "source": [
    "def generate_spec2(path, hires=True , test=False):\n",
    "    hires_ext = '.hires' if hires else ''\n",
    "    \n",
    "    audio = load_audio(path)\n",
    "    spec = librosa.feature.melspectrogram(audio, sr=44100, n_fft=2205, hop_length=441, n_mels=180,\n",
    "                                          fmax=16000)\n",
    "    freqs = librosa.core.mel_frequencies(n_mels=180, fmax=16000)\n",
    "    spec = librosa.core.perceptual_weighting(spec, freqs)#, ref_power=np.max)\n",
    "    t=np.shape(spec)[1]\n",
    "    i=1\n",
    "    spec1 = spec[5:175,(i-1)*1000:i*1000]\n",
    "#         spec1 += 40\n",
    "#         spec1 /= 10.0\n",
    "#     print(path+ str(i))\n",
    "    spec1=(spec1-(spec1.mean()))/spec1.std()\n",
    "    return spec1\n",
    "    "
   ]
  },
  {
   "cell_type": "code",
   "execution_count": null,
   "metadata": {},
   "outputs": [],
   "source": [
    "# bird_audio_path=sys.argv[1]\n",
    "bird_audio_path=\"D:/iitd/SEM6/COP315/test/My recording 1.wav\"\n",
    "bird_audio_spec=generate_spec2(bird_audio_path)\n"
   ]
  },
  {
   "cell_type": "code",
   "execution_count": null,
   "metadata": {},
   "outputs": [],
   "source": [
    "import keras\n",
    "from keras.models import Sequential\n",
    "from keras.layers import Dense, Dropout, Flatten, Conv2D, MaxPooling2D\n",
    "from keras.utils import to_categorical\n",
    "model = Sequential()\n",
    "model.add(Conv2D(128, kernel_size=(170,20), activation='relu', input_shape=(170,1000,1)))\n",
    "model.add(MaxPooling2D(pool_size=(1,981)))\n",
    "model.add(Dropout(0.25))\n",
    "model.add(Flatten())\n",
    "model.add(Dense(64, activation='relu'))\n",
    "model.add(Dropout(0.25))\n",
    "model.add(Dense(17, activation='softmax'))\n",
    "model.compile(loss=keras.losses.categorical_crossentropy,\n",
    "              optimizer=keras.optimizers.Adadelta(),\n",
    "              metrics=['accuracy'])\n",
    "# model.summary()"
   ]
  },
  {
   "cell_type": "code",
   "execution_count": null,
   "metadata": {},
   "outputs": [],
   "source": [
    "bird_audio_spec_np = np.asarray(bird_audio_spec)\n",
    "bird_audio_spec_np = bird_audio_spec_np.reshape(1,170,1000,1)"
   ]
  },
  {
   "cell_type": "code",
   "execution_count": null,
   "metadata": {},
   "outputs": [],
   "source": [
    "model.load_weights(\"16_classes_xeno.hdf5\")\n"
   ]
  },
  {
   "cell_type": "code",
   "execution_count": 14,
   "metadata": {},
   "outputs": [],
   "source": [
    "y_pred=model.predict(bird_audio_spec_np)\n",
    "yp=np.argmax(y_pred,axis=1)"
   ]
  },
  {
   "cell_type": "code",
   "execution_count": 3,
   "metadata": {},
   "outputs": [],
   "source": [
    "with open(\"D:/iitd/SEM6/COP315/bird_class_dict.pickle\", 'rb') as handle:\n",
    "    b = pickle.load(handle)"
   ]
  },
  {
   "cell_type": "code",
   "execution_count": 4,
   "metadata": {},
   "outputs": [
    {
     "data": {
      "text/plain": [
       "dict_values(['alexandrine_parakeet', 'brahamini_myna', 'collared_dove', 'common_myna', 'hoopoe', 'house_crow', 'indian_peafowl', 'indian_robin', 'jungle_babbler', 'koel', 'red_vented_bulbul', 'red_whiskered_bulbul', 'rock_dove', 'rose-ringed_parakeet', 'tailor_bird', 'yellow_footed_pigeon'])"
      ]
     },
     "execution_count": 4,
     "metadata": {},
     "output_type": "execute_result"
    }
   ],
   "source": [
    "b.values()"
   ]
  },
  {
   "cell_type": "code",
   "execution_count": 12,
   "metadata": {},
   "outputs": [
    {
     "name": "stdout",
     "output_type": "stream",
     "text": [
      "rose-ringed_parakeet\n"
     ]
    }
   ],
   "source": [
    "print(b[yp[0]])"
   ]
  }
 ],
 "metadata": {
  "kernelspec": {
   "display_name": "Python 3",
   "language": "python",
   "name": "python3"
  },
  "language_info": {
   "codemirror_mode": {
    "name": "ipython",
    "version": 3
   },
   "file_extension": ".py",
   "mimetype": "text/x-python",
   "name": "python",
   "nbconvert_exporter": "python",
   "pygments_lexer": "ipython3",
   "version": "3.6.6"
  }
 },
 "nbformat": 4,
 "nbformat_minor": 2
}
